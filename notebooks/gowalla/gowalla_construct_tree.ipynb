{
 "cells": [
  {
   "cell_type": "code",
   "execution_count": null,
   "metadata": {},
   "outputs": [],
   "source": [
    "import torch\n",
    "import numpy as np\n",
    "import os,sys\n",
    "sys.path.append('../..')\n",
    "#parametres \n",
    "data_set_name='gowalla'\n",
    "device='cuda:0'\n",
    "rerank_topk=20\n",
    "topk=20\n",
    "optimizer=lambda params: torch.optim.Adam(params, lr=1e-3, amsgrad=True)\n",
    "have_processed_data=True\n",
    "tree_num=1\n",
    "model_num=2\n",
    "num_layers=2#layer of transformer\n",
    "k=18#the branch of each tree\n",
    "n_head=4\n",
    "d_model=96\n",
    "\n",
    "\n",
    "train_sample_seg_cnt=10#the training data is located in the train_sample_seg_cnt datafiles\n",
    "parall=10\n",
    "seq_len=70 # se_len-1 is the number of behaviours in all the windows\n",
    "min_seq_len=15\n",
    "test_user_num=1000# the number of user in test file\n",
    "raw_data_file='../../data/{}/{}.txt'.format(data_set_name,data_set_name)\n",
    "train_instances_file='../../data/{}/train_instances'.format(data_set_name)\n",
    "test_instances_file='../../data/{}/test_instances'.format(data_set_name)\n",
    "validation_instances_file='../../data/{}/validation_instances'.format(data_set_name)\n",
    "item_num_node_num_file='../../data/{}/item_node_num.txt'.format(data_set_name)\n",
    "train_item_vec_file='../../data/{}/train_item_vec.npy'.format(data_set_name)\n",
    "#item_to_code_file='../../data/{}/item_to_code.npy'.format(data_set_name)\n",
    "#code_to_item_file='../../data/{}/code_to_item.npy'.format(data_set_name)\n",
    "DIN_Model_path='../../data/{}/DIN_MODEL.pt'.format(data_set_name)\n",
    "tree_has_generated=False\n",
    "max_iters=100\n",
    "reranker=\"Trm\"\n",
    "total_batch_num=20000\n",
    "\n",
    "test_batch_size=100\n",
    "assert tree_num==1\n",
    "\n",
    "eps=0.000001\n",
    "if device!='cpu':\n",
    "    torch.cuda.set_device(device)\n",
    "    device='cuda'\n",
    "%load_ext autoreload\n",
    "%autoreload 2\n",
    "from lib import Trm4Rec"
   ]
  },
  {
   "cell_type": "code",
   "execution_count": null,
   "metadata": {
    "scrolled": true
   },
   "outputs": [],
   "source": [
    "##load DIN model which is the ranker for fine-ranking\n",
    "from lib import DeepInterestNetwork as DIN\n",
    "DIN_Model=torch.load(DIN_Model_path,map_location=torch.device(device))\n",
    "DIN_Model.eval()\n",
    "pass"
   ]
  },
  {
   "cell_type": "code",
   "execution_count": null,
   "metadata": {},
   "outputs": [],
   "source": [
    "import lib\n",
    "from lib import generate_train_and_test_data\n",
    "import gc\n",
    "import numpy as np\n",
    "if not have_processed_data: \n",
    "    behavior_dict, train_sample, test_sample ,user_num,item_num,item_vec= generate_train_and_test_data._read(raw_data_file, 'train.dat', 'test.dat',\n",
    "                                                                            test_user_num)  # 20 is the test users\n",
    "    # write the training instance into different train_sample_seg_cnt files， avoid that a file is too large\n",
    "    # stat record the click frequency of each item\n",
    "    # seq_len=20 min that 19 behaviors and one label\n",
    "    stat = generate_train_and_test_data._gen_train_sample(train_sample, train_instances_file,test_sample=test_sample,\n",
    "                                                    train_sample_seg_cnt=train_sample_seg_cnt,\n",
    "                                                    parall=parall, seq_len=seq_len, min_seq_len=min_seq_len)\n",
    "    generate_train_and_test_data._gen_test_sample(test_sample, test_instances_file, seq_len=seq_len,\n",
    "                                            min_seq_len=min_seq_len)\n",
    "    del behavior_dict\n",
    "    del train_sample\n",
    "    del test_sample\n",
    "    del stat\n",
    "    np.savetxt(item_num_node_num_file,np.array([user_num,item_num]),fmt='%d',delimiter=',')\n",
    "else:\n",
    "    [user_num,item_num]=np.loadtxt(item_num_node_num_file,dtype=np.int32,delimiter=',')\n",
    "print('user num is {}, item is {}'.format(user_num,item_num))"
   ]
  },
  {
   "cell_type": "code",
   "execution_count": null,
   "metadata": {
    "scrolled": true
   },
   "outputs": [],
   "source": [
    "init_way_list=['embkm']\n",
    "feature_ratio_list = [1.0]\n",
    "for init_way,feature_ratio in zip(init_way_list,feature_ratio_list):  \n",
    "    item_to_code_file_list=[]\n",
    "    code_to_item_file_list=[]\n",
    "    for tree_id in range(model_num):\n",
    "        item_to_code_file=['../../data/{}/tree/{}{}_item_to_code_tree_id_{}_k{}.npy'.format(data_set_name,init_way,feature_ratio,tree_id+1,k)]\n",
    "        code_to_item_file=['../../data/{}/tree/{}{}_code_to_item_tree_id_{}_k{}.npy'.format(data_set_name,init_way,feature_ratio,tree_id+1,k)]\n",
    "        item_to_code_file_list.append(item_to_code_file)\n",
    "        code_to_item_file_list.append(code_to_item_file)\n",
    "    if not tree_has_generated:\n",
    "        if init_way == 'embkm':\n",
    "            data=DIN_Model.item_embedding.embed.weight.data[:item_num,:].cpu()\n",
    "        elif init_way == 'datakm':\n",
    "            data=torch.tensor(np.load(train_item_vec_file),dtype=torch.float32)\n",
    "        else:\n",
    "            data=None\n",
    "    else:\n",
    "        data=None\n",
    "    train_model_list = []\n",
    "    for i in range(model_num):\n",
    "        train_model = Trm4Rec(item_num=int(item_num),\n",
    "                              user_seq_len=seq_len-1,\n",
    "                              d_model=d_model,\n",
    "                              nhead=n_head,\n",
    "                              tree_num=tree_num,\n",
    "                              device=device,\n",
    "                              optimizer=optimizer,\n",
    "                              num_layers=num_layers,\n",
    "                              k=k,\n",
    "                              item_to_code_file_list=item_to_code_file_list[i],\n",
    "                              code_to_item_file_list=code_to_item_file_list[i],\n",
    "                              tree_has_generated=tree_has_generated,\n",
    "                              init_way=init_way,\n",
    "                              max_iters=max_iters,\n",
    "                              feature_ratio=feature_ratio,\n",
    "                              data=data,#used for kmeans tree\n",
    "                              parall=parall,\n",
    "                              ranker=None)\n",
    "        train_model_list.append(train_model)"
   ]
  },
  {
   "cell_type": "code",
   "execution_count": null,
   "metadata": {},
   "outputs": [],
   "source": []
  }
 ],
 "metadata": {
  "interpreter": {
   "hash": "41b01dbd54d66c6f96f9b705d522ef4a54c0bfab2c5953d35ea8ce7a0c7c1331"
  },
  "kernelspec": {
   "display_name": "Python 3",
   "language": "python",
   "name": "python3"
  },
  "language_info": {
   "codemirror_mode": {
    "name": "ipython",
    "version": 3
   },
   "file_extension": ".py",
   "mimetype": "text/x-python",
   "name": "python",
   "nbconvert_exporter": "python",
   "pygments_lexer": "ipython3",
   "version": "3.6.13"
  }
 },
 "nbformat": 4,
 "nbformat_minor": 2
}
